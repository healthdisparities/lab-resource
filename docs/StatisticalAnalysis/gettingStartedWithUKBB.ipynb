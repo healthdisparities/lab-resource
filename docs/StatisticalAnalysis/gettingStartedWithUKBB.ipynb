{
 "cells": [
  {
   "cell_type": "markdown",
   "id": "5fe41505",
   "metadata": {},
   "source": [
    "# **UK Biobank sample analysis**\n",
    "___"
   ]
  },
  {
   "cell_type": "markdown",
   "id": "f11ddba2",
   "metadata": {},
   "source": [
    "## 1. UK Biobank supplies us with an encrypted dataset along with few scripts that can be downloded [here](https://biobank.ctsu.ox.ac.uk/crystal/download.cgi)."
   ]
  },
  {
   "cell_type": "markdown",
   "id": "43d1fc4f",
   "metadata": {},
   "source": [
    "### ---> Before using the following UKBB scipts, please make sure you are on a system with **150GB RAM** & **100GB free space**. \n",
    "### ---> UKBB data is really large!"
   ]
  },
  {
   "cell_type": "markdown",
   "id": "88deae77",
   "metadata": {},
   "source": [
    "#### 1.1 UKBB encodes the data first and then encrypts it. That means, we will have to first decrypt it, and then decode it. "
   ]
  },
  {
   "cell_type": "markdown",
   "id": "be0ddb7f",
   "metadata": {},
   "source": [
    "#### 1.2 We decypt the data using: **ukb_unpack ukbxxxx.enc < Your UKBB Key >** \n",
    "+ *ukb_unpack* can be found on the link above for Linux/Win systems and will produce a .enc_ukbb file which will be around **~16GB**"
   ]
  },
  {
   "cell_type": "markdown",
   "id": "3f6ba3b5",
   "metadata": {},
   "source": [
    "#### 1.3 The above command will produce **ukbxxxx.enc_ukb** file, that can be decoded to a TAB seperated TSV using: **ukb_conv ukbxxxx.enc_ukb r**\n",
    "+ The TAB file produced will be around **~34GB**."
   ]
  },
  {
   "cell_type": "markdown",
   "id": "cc6bfc03",
   "metadata": {},
   "source": [
    "#### 1.4 This will finally create a TSV file called **ukbxxxx.tab** and an R script **ukbxxxx.r**. This R file reads the data for us easily."
   ]
  },
  {
   "cell_type": "markdown",
   "id": "9a9e38f5",
   "metadata": {},
   "source": [
    "#### 1.5 You can also check [this github.io link](https://kenhanscombe.github.io/ukbtools/articles/explore-ukb-data.html#making-a-key-1) for more information regarding this section"
   ]
  },
  {
   "cell_type": "markdown",
   "id": "eaa05c16",
   "metadata": {},
   "source": [
    "___\n",
    "___"
   ]
  },
  {
   "cell_type": "markdown",
   "id": "c19bbe5e",
   "metadata": {},
   "source": [
    "## 2. We can use R to save the datasetin the [FST data format](https://www.fstpackage.org/) to save the data fast & efficiently."
   ]
  },
  {
   "cell_type": "code",
   "execution_count": null,
   "id": "1cca9fb5",
   "metadata": {},
   "outputs": [],
   "source": [
    "install.packages(\"fst\")"
   ]
  },
  {
   "cell_type": "code",
   "execution_count": 55,
   "id": "80c15e8a",
   "metadata": {},
   "outputs": [],
   "source": [
    "library(fst)\n",
    "library(dplyr)\n",
    "library(ggplot2)"
   ]
  },
  {
   "cell_type": "code",
   "execution_count": null,
   "id": "01a53ff7",
   "metadata": {},
   "outputs": [],
   "source": [
    "source(\"ukbxxxx.r\")\n",
    "library(fst)\n",
    "threads_fst(nr_of_threads = 30)\n",
    "\n",
    "#bd is the object created by the R script sourced in the first line.\n",
    "write.fst(bd, \"ukb_full_data.fst\")"
   ]
  },
  {
   "cell_type": "markdown",
   "id": "986892df",
   "metadata": {},
   "source": [
    "### After this section, you will have a file: **ukb_full_data.fst**, which will be around **13GB**"
   ]
  },
  {
   "cell_type": "markdown",
   "id": "e6ec3a50",
   "metadata": {},
   "source": [
    "___\n",
    "___"
   ]
  },
  {
   "cell_type": "markdown",
   "id": "2b45d548",
   "metadata": {},
   "source": [
    "## 3. Now we have the dataset saved in FST format that we can directly read through R."
   ]
  },
  {
   "cell_type": "code",
   "execution_count": 38,
   "id": "8c10fae9",
   "metadata": {},
   "outputs": [],
   "source": [
    "df <- read_fst(\"../xxxx/<YourPath>/xxxx/ukb_full_data.fst\") "
   ]
  },
  {
   "cell_type": "code",
   "execution_count": 39,
   "id": "188f2809",
   "metadata": {},
   "outputs": [
    {
     "data": {
      "text/html": [
       "<style>\n",
       ".list-inline {list-style: none; margin:0; padding: 0}\n",
       ".list-inline>li {display: inline-block}\n",
       ".list-inline>li:not(:last-child)::after {content: \"\\00b7\"; padding: 0 .5ex}\n",
       "</style>\n",
       "<ol class=list-inline><li>502486</li><li>18093</li></ol>\n"
      ],
      "text/latex": [
       "\\begin{enumerate*}\n",
       "\\item 502486\n",
       "\\item 18093\n",
       "\\end{enumerate*}\n"
      ],
      "text/markdown": [
       "1. 502486\n",
       "2. 18093\n",
       "\n",
       "\n"
      ],
      "text/plain": [
       "[1] 502486  18093"
      ]
     },
     "metadata": {},
     "output_type": "display_data"
    }
   ],
   "source": [
    "#Let's look at number of rows & number of columns\n",
    "dim(df)"
   ]
  },
  {
   "cell_type": "markdown",
   "id": "95d8c890",
   "metadata": {},
   "source": [
    "#### 3.1 We can see, our dataset has ~502k rows (participants) and ~18k (columns/fields)."
   ]
  },
  {
   "cell_type": "markdown",
   "id": "ef602c87",
   "metadata": {},
   "source": [
    "___\n",
    "___"
   ]
  },
  {
   "cell_type": "markdown",
   "id": "d6860c3a",
   "metadata": {},
   "source": [
    "## 4. Let's have a look at the data in UKBB from ethnic group point-of-view."
   ]
  },
  {
   "cell_type": "markdown",
   "id": "9956edba",
   "metadata": {},
   "source": [
    "#### 4.1 From the [UKBB Website](https://biobank.ndph.ox.ac.uk/ukb/field.cgi?id=21000) we know that EthnicGroup is stored in field 21000. So let's see what fields have that number."
   ]
  },
  {
   "cell_type": "code",
   "execution_count": 40,
   "id": "513c1d63",
   "metadata": {},
   "outputs": [
    {
     "data": {
      "text/html": [
       "<style>\n",
       ".list-inline {list-style: none; margin:0; padding: 0}\n",
       ".list-inline>li {display: inline-block}\n",
       ".list-inline>li:not(:last-child)::after {content: \"\\00b7\"; padding: 0 .5ex}\n",
       "</style>\n",
       "<ol class=list-inline><li>'f.21000.0.0'</li><li>'f.21000.1.0'</li><li>'f.21000.2.0'</li></ol>\n"
      ],
      "text/latex": [
       "\\begin{enumerate*}\n",
       "\\item 'f.21000.0.0'\n",
       "\\item 'f.21000.1.0'\n",
       "\\item 'f.21000.2.0'\n",
       "\\end{enumerate*}\n"
      ],
      "text/markdown": [
       "1. 'f.21000.0.0'\n",
       "2. 'f.21000.1.0'\n",
       "3. 'f.21000.2.0'\n",
       "\n",
       "\n"
      ],
      "text/plain": [
       "[1] \"f.21000.0.0\" \"f.21000.1.0\" \"f.21000.2.0\""
      ]
     },
     "metadata": {},
     "output_type": "display_data"
    }
   ],
   "source": [
    "grep(\"21000\", names(df), value=TRUE)"
   ]
  },
  {
   "cell_type": "code",
   "execution_count": 41,
   "id": "f7affa6f",
   "metadata": {},
   "outputs": [
    {
     "data": {
      "text/html": [
       "<table class=\"dataframe\">\n",
       "<caption>A data.frame: 6 × 3</caption>\n",
       "<thead>\n",
       "\t<tr><th></th><th scope=col>f.21000.0.0</th><th scope=col>f.21000.1.0</th><th scope=col>f.21000.2.0</th></tr>\n",
       "\t<tr><th></th><th scope=col>&lt;ord&gt;</th><th scope=col>&lt;ord&gt;</th><th scope=col>&lt;ord&gt;</th></tr>\n",
       "</thead>\n",
       "<tbody>\n",
       "\t<tr><th scope=row>1</th><td>British                   </td><td>NA</td><td>NA</td></tr>\n",
       "\t<tr><th scope=row>2</th><td>Any other Asian background</td><td>NA</td><td>NA</td></tr>\n",
       "\t<tr><th scope=row>3</th><td>British                   </td><td>NA</td><td>NA</td></tr>\n",
       "\t<tr><th scope=row>4</th><td>British                   </td><td>NA</td><td>NA</td></tr>\n",
       "\t<tr><th scope=row>5</th><td>British                   </td><td>NA</td><td>NA</td></tr>\n",
       "\t<tr><th scope=row>6</th><td>British                   </td><td>NA</td><td>NA</td></tr>\n",
       "</tbody>\n",
       "</table>\n"
      ],
      "text/latex": [
       "A data.frame: 6 × 3\n",
       "\\begin{tabular}{r|lll}\n",
       "  & f.21000.0.0 & f.21000.1.0 & f.21000.2.0\\\\\n",
       "  & <ord> & <ord> & <ord>\\\\\n",
       "\\hline\n",
       "\t1 & British                    & NA & NA\\\\\n",
       "\t2 & Any other Asian background & NA & NA\\\\\n",
       "\t3 & British                    & NA & NA\\\\\n",
       "\t4 & British                    & NA & NA\\\\\n",
       "\t5 & British                    & NA & NA\\\\\n",
       "\t6 & British                    & NA & NA\\\\\n",
       "\\end{tabular}\n"
      ],
      "text/markdown": [
       "\n",
       "A data.frame: 6 × 3\n",
       "\n",
       "| <!--/--> | f.21000.0.0 &lt;ord&gt; | f.21000.1.0 &lt;ord&gt; | f.21000.2.0 &lt;ord&gt; |\n",
       "|---|---|---|---|\n",
       "| 1 | British                    | NA | NA |\n",
       "| 2 | Any other Asian background | NA | NA |\n",
       "| 3 | British                    | NA | NA |\n",
       "| 4 | British                    | NA | NA |\n",
       "| 5 | British                    | NA | NA |\n",
       "| 6 | British                    | NA | NA |\n",
       "\n"
      ],
      "text/plain": [
       "  f.21000.0.0                f.21000.1.0 f.21000.2.0\n",
       "1 British                    NA          NA         \n",
       "2 Any other Asian background NA          NA         \n",
       "3 British                    NA          NA         \n",
       "4 British                    NA          NA         \n",
       "5 British                    NA          NA         \n",
       "6 British                    NA          NA         "
      ]
     },
     "metadata": {},
     "output_type": "display_data"
    }
   ],
   "source": [
    "head(df[c(\"f.21000.0.0\", \"f.21000.1.0\", \"f.21000.2.0\")])"
   ]
  },
  {
   "cell_type": "code",
   "execution_count": 42,
   "id": "18a6e822",
   "metadata": {},
   "outputs": [
    {
     "data": {
      "text/html": [
       "<table class=\"dataframe\">\n",
       "<caption>A data.frame: 6 × 1</caption>\n",
       "<thead>\n",
       "\t<tr><th></th><th scope=col>f.21000.0.0</th></tr>\n",
       "\t<tr><th></th><th scope=col>&lt;ord&gt;</th></tr>\n",
       "</thead>\n",
       "<tbody>\n",
       "\t<tr><th scope=row>1</th><td>British                   </td></tr>\n",
       "\t<tr><th scope=row>2</th><td>Any other Asian background</td></tr>\n",
       "\t<tr><th scope=row>14</th><td>Chinese                   </td></tr>\n",
       "\t<tr><th scope=row>16</th><td>Other ethnic group        </td></tr>\n",
       "\t<tr><th scope=row>30</th><td>Pakistani                 </td></tr>\n",
       "\t<tr><th scope=row>37</th><td>Irish                     </td></tr>\n",
       "</tbody>\n",
       "</table>\n"
      ],
      "text/latex": [
       "A data.frame: 6 × 1\n",
       "\\begin{tabular}{r|l}\n",
       "  & f.21000.0.0\\\\\n",
       "  & <ord>\\\\\n",
       "\\hline\n",
       "\t1 & British                   \\\\\n",
       "\t2 & Any other Asian background\\\\\n",
       "\t14 & Chinese                   \\\\\n",
       "\t16 & Other ethnic group        \\\\\n",
       "\t30 & Pakistani                 \\\\\n",
       "\t37 & Irish                     \\\\\n",
       "\\end{tabular}\n"
      ],
      "text/markdown": [
       "\n",
       "A data.frame: 6 × 1\n",
       "\n",
       "| <!--/--> | f.21000.0.0 &lt;ord&gt; |\n",
       "|---|---|\n",
       "| 1 | British                    |\n",
       "| 2 | Any other Asian background |\n",
       "| 14 | Chinese                    |\n",
       "| 16 | Other ethnic group         |\n",
       "| 30 | Pakistani                  |\n",
       "| 37 | Irish                      |\n",
       "\n"
      ],
      "text/plain": [
       "   f.21000.0.0               \n",
       "1  British                   \n",
       "2  Any other Asian background\n",
       "14 Chinese                   \n",
       "16 Other ethnic group        \n",
       "30 Pakistani                 \n",
       "37 Irish                     "
      ]
     },
     "metadata": {},
     "output_type": "display_data"
    }
   ],
   "source": [
    "head(unique(df[c(\"f.21000.0.0\")]))"
   ]
  },
  {
   "cell_type": "markdown",
   "id": "b226e015",
   "metadata": {},
   "source": [
    "#### 4.2 But the column name: **f.21000.0.0** only has the information for EthnicBackground. EthnicBackgroud is a field within EthnicGroup, so we'll have to extract that information.\n",
    "\n",
    "#### 4.3 Let's create a column which has the EthicGroup categories: White, Black, Mixed, Other, Chinese, or Asian."
   ]
  },
  {
   "cell_type": "markdown",
   "id": "4ef2eb3e",
   "metadata": {},
   "source": [
    "#### 4.4 EthnicGroup will be inferred using the following categorizations:\n",
    "+ White <- (British, Irish, Any other white background, White)\n",
    "+ Black <- (Caribbean, African, Any other Black background)\n",
    "+ Asian <- (Indian, Pakistani, Bangladeshi, Any other Asian background)\n",
    "+ Chinese <- (Chinese)\n",
    "+ Mixed <- (White and Black Caribbean, White and Black African, White and Asian, Any other mixed background)\n",
    "+ Other <- (Other ethnic group )"
   ]
  },
  {
   "cell_type": "code",
   "execution_count": 43,
   "id": "8d59a7f5",
   "metadata": {},
   "outputs": [],
   "source": [
    "df$EthnicGroup = \"None\"\n",
    "df$EthnicGroup[df$'f.21000.0.0' %in% c (\"British\", \"Irish\", \"Any other white background\", \"White\")] = \"White\"\n",
    "df$EthnicGroup[df$'f.21000.0.0' %in% c (\"Caribbean\", \"African\", \"Any other Black background\")] = \"Black\"\n",
    "df$EthnicGroup[df$'f.21000.0.0' %in% c (\"Indian\", \"Pakistani\", \"Bangladeshi\", \"Any other Asian background\")] = \"Asian\"\n",
    "df$EthnicGroup[df$'f.21000.0.0' %in% c (\"White and Black Caribbean\", \"White and Black African\", \"White and Asian\", \"Any other mixed background\")] = \"Mixed\"\n",
    "df$EthnicGroup[df$'f.21000.0.0' %in% c (\"Chinese\")] = \"Chinese\"\n",
    "df$EthnicGroup[df$'f.21000.0.0' %in% c (\"Other ethnic group\")] = \"Other\"\n",
    "\n",
    "#Remove individuals which are not in any of the above categories.\n",
    "df = df[df$EthnicGroup != \"None\", ]"
   ]
  },
  {
   "cell_type": "markdown",
   "id": "195cffbd",
   "metadata": {},
   "source": [
    "#### 4.5 Now we have saved EthnicGroup for individuals in the EthnicGroup column name."
   ]
  },
  {
   "cell_type": "code",
   "execution_count": 44,
   "id": "5f1c94fa",
   "metadata": {},
   "outputs": [
    {
     "data": {
      "text/html": [
       "<table class=\"dataframe\">\n",
       "<caption>A data.frame: 6 × 2</caption>\n",
       "<thead>\n",
       "\t<tr><th scope=col>EthnicGroup</th><th scope=col>n</th></tr>\n",
       "\t<tr><th scope=col>&lt;chr&gt;</th><th scope=col>&lt;int&gt;</th></tr>\n",
       "</thead>\n",
       "<tbody>\n",
       "\t<tr><td>Asian  </td><td>  9838</td></tr>\n",
       "\t<tr><td>Black  </td><td>  8034</td></tr>\n",
       "\t<tr><td>Chinese</td><td>  1574</td></tr>\n",
       "\t<tr><td>Mixed  </td><td>  2909</td></tr>\n",
       "\t<tr><td>Other  </td><td>  4558</td></tr>\n",
       "\t<tr><td>White  </td><td>472677</td></tr>\n",
       "</tbody>\n",
       "</table>\n"
      ],
      "text/latex": [
       "A data.frame: 6 × 2\n",
       "\\begin{tabular}{ll}\n",
       " EthnicGroup & n\\\\\n",
       " <chr> & <int>\\\\\n",
       "\\hline\n",
       "\t Asian   &   9838\\\\\n",
       "\t Black   &   8034\\\\\n",
       "\t Chinese &   1574\\\\\n",
       "\t Mixed   &   2909\\\\\n",
       "\t Other   &   4558\\\\\n",
       "\t White   & 472677\\\\\n",
       "\\end{tabular}\n"
      ],
      "text/markdown": [
       "\n",
       "A data.frame: 6 × 2\n",
       "\n",
       "| EthnicGroup &lt;chr&gt; | n &lt;int&gt; |\n",
       "|---|---|\n",
       "| Asian   |   9838 |\n",
       "| Black   |   8034 |\n",
       "| Chinese |   1574 |\n",
       "| Mixed   |   2909 |\n",
       "| Other   |   4558 |\n",
       "| White   | 472677 |\n",
       "\n"
      ],
      "text/plain": [
       "  EthnicGroup n     \n",
       "1 Asian         9838\n",
       "2 Black         8034\n",
       "3 Chinese       1574\n",
       "4 Mixed         2909\n",
       "5 Other         4558\n",
       "6 White       472677"
      ]
     },
     "metadata": {},
     "output_type": "display_data"
    }
   ],
   "source": [
    "df %>% count(EthnicGroup)"
   ]
  },
  {
   "cell_type": "markdown",
   "id": "9031a60f",
   "metadata": {},
   "source": [
    "___\n",
    "___"
   ]
  },
  {
   "cell_type": "markdown",
   "id": "77cc7707",
   "metadata": {},
   "source": [
    "# 5. Now let's look at the biomarker: [Urea field 30670](https://biobank.ndph.ox.ac.uk/ukb/field.cgi?id=30670)."
   ]
  },
  {
   "cell_type": "markdown",
   "id": "7a39d46b",
   "metadata": {},
   "source": [
    "#### 5.1 Let's look at this (30670 <-> Urea) column number:"
   ]
  },
  {
   "cell_type": "code",
   "execution_count": 46,
   "id": "be56216c",
   "metadata": {},
   "outputs": [
    {
     "data": {
      "text/html": [
       "<table class=\"dataframe\">\n",
       "<caption>A data.frame: 6 × 1</caption>\n",
       "<thead>\n",
       "\t<tr><th></th><th scope=col>f.30670.0.0</th></tr>\n",
       "\t<tr><th></th><th scope=col>&lt;dbl&gt;</th></tr>\n",
       "</thead>\n",
       "<tbody>\n",
       "\t<tr><th scope=row>1</th><td>5.46</td></tr>\n",
       "\t<tr><th scope=row>2</th><td>  NA</td></tr>\n",
       "\t<tr><th scope=row>3</th><td>4.84</td></tr>\n",
       "\t<tr><th scope=row>4</th><td>3.37</td></tr>\n",
       "\t<tr><th scope=row>6</th><td>4.50</td></tr>\n",
       "\t<tr><th scope=row>7</th><td>3.90</td></tr>\n",
       "</tbody>\n",
       "</table>\n"
      ],
      "text/latex": [
       "A data.frame: 6 × 1\n",
       "\\begin{tabular}{r|l}\n",
       "  & f.30670.0.0\\\\\n",
       "  & <dbl>\\\\\n",
       "\\hline\n",
       "\t1 & 5.46\\\\\n",
       "\t2 &   NA\\\\\n",
       "\t3 & 4.84\\\\\n",
       "\t4 & 3.37\\\\\n",
       "\t6 & 4.50\\\\\n",
       "\t7 & 3.90\\\\\n",
       "\\end{tabular}\n"
      ],
      "text/markdown": [
       "\n",
       "A data.frame: 6 × 1\n",
       "\n",
       "| <!--/--> | f.30670.0.0 &lt;dbl&gt; |\n",
       "|---|---|\n",
       "| 1 | 5.46 |\n",
       "| 2 |   NA |\n",
       "| 3 | 4.84 |\n",
       "| 4 | 3.37 |\n",
       "| 6 | 4.50 |\n",
       "| 7 | 3.90 |\n",
       "\n"
      ],
      "text/plain": [
       "  f.30670.0.0\n",
       "1 5.46       \n",
       "2   NA       \n",
       "3 4.84       \n",
       "4 3.37       \n",
       "6 4.50       \n",
       "7 3.90       "
      ]
     },
     "metadata": {},
     "output_type": "display_data"
    }
   ],
   "source": [
    "head(unique(df[c(\"f.30670.0.0\")]))"
   ]
  },
  {
   "cell_type": "markdown",
   "id": "b33fc512",
   "metadata": {},
   "source": [
    "#### 5.2 Let's remove the NAs and plot a graph to visualize the biomarker levels."
   ]
  },
  {
   "cell_type": "code",
   "execution_count": 81,
   "id": "a299cd26",
   "metadata": {},
   "outputs": [
    {
     "data": {
      "text/html": [
       "<table class=\"dataframe\">\n",
       "<caption>A data.frame: 6 × 3</caption>\n",
       "<thead>\n",
       "\t<tr><th></th><th scope=col>EthnicGroup</th><th scope=col>f.30670.0.0</th><th scope=col>f.31.0.0</th></tr>\n",
       "\t<tr><th></th><th scope=col>&lt;chr&gt;</th><th scope=col>&lt;dbl&gt;</th><th scope=col>&lt;ord&gt;</th></tr>\n",
       "</thead>\n",
       "<tbody>\n",
       "\t<tr><th scope=row>1</th><td>White</td><td>5.46</td><td>Male  </td></tr>\n",
       "\t<tr><th scope=row>2</th><td>Asian</td><td>  NA</td><td>Male  </td></tr>\n",
       "\t<tr><th scope=row>3</th><td>White</td><td>4.84</td><td>Female</td></tr>\n",
       "\t<tr><th scope=row>4</th><td>White</td><td>3.37</td><td>Female</td></tr>\n",
       "\t<tr><th scope=row>5</th><td>White</td><td>  NA</td><td>Female</td></tr>\n",
       "\t<tr><th scope=row>6</th><td>White</td><td>4.50</td><td>Male  </td></tr>\n",
       "</tbody>\n",
       "</table>\n"
      ],
      "text/latex": [
       "A data.frame: 6 × 3\n",
       "\\begin{tabular}{r|lll}\n",
       "  & EthnicGroup & f.30670.0.0 & f.31.0.0\\\\\n",
       "  & <chr> & <dbl> & <ord>\\\\\n",
       "\\hline\n",
       "\t1 & White & 5.46 & Male  \\\\\n",
       "\t2 & Asian &   NA & Male  \\\\\n",
       "\t3 & White & 4.84 & Female\\\\\n",
       "\t4 & White & 3.37 & Female\\\\\n",
       "\t5 & White &   NA & Female\\\\\n",
       "\t6 & White & 4.50 & Male  \\\\\n",
       "\\end{tabular}\n"
      ],
      "text/markdown": [
       "\n",
       "A data.frame: 6 × 3\n",
       "\n",
       "| <!--/--> | EthnicGroup &lt;chr&gt; | f.30670.0.0 &lt;dbl&gt; | f.31.0.0 &lt;ord&gt; |\n",
       "|---|---|---|---|\n",
       "| 1 | White | 5.46 | Male   |\n",
       "| 2 | Asian |   NA | Male   |\n",
       "| 3 | White | 4.84 | Female |\n",
       "| 4 | White | 3.37 | Female |\n",
       "| 5 | White |   NA | Female |\n",
       "| 6 | White | 4.50 | Male   |\n",
       "\n"
      ],
      "text/plain": [
       "  EthnicGroup f.30670.0.0 f.31.0.0\n",
       "1 White       5.46        Male    \n",
       "2 Asian         NA        Male    \n",
       "3 White       4.84        Female  \n",
       "4 White       3.37        Female  \n",
       "5 White         NA        Female  \n",
       "6 White       4.50        Male    "
      ]
     },
     "metadata": {},
     "output_type": "display_data"
    },
    {
     "data": {
      "text/html": [
       "36913"
      ],
      "text/latex": [
       "36913"
      ],
      "text/markdown": [
       "36913"
      ],
      "text/plain": [
       "[1] 36913"
      ]
     },
     "metadata": {},
     "output_type": "display_data"
    },
    {
     "data": {
      "text/html": [
       "34025"
      ],
      "text/latex": [
       "34025"
      ],
      "text/markdown": [
       "34025"
      ],
      "text/plain": [
       "[1] 34025"
      ]
     },
     "metadata": {},
     "output_type": "display_data"
    }
   ],
   "source": [
    "#Create a new df just for UREA levels.\n",
    "for_urea_df = df[c(\"EthnicGroup\", \"f.30670.0.0\", \"f.31.0.0\")]\n",
    "head(for_urea_df)\n",
    "\n",
    "#Sample only 10,000 White individuals.\n",
    "sub_sampled_for_urea_df = rbind(for_urea_df[for_urea_df$EthnicGroup != \"White\", ], for_urea_df[for_urea_df$EthnicGroup == \"White\", ] %>% sample_n(10000))\n",
    "\n",
    "#Let's remove the NA values.\n",
    "nrow(sub_sampled_for_urea_df)\n",
    "sub_sampled_for_urea_df = sub_sampled_for_urea_df[!is.na(sub_sampled_for_urea_df$\"f.30670.0.0\"), ]\n",
    "sub_sampled_for_urea_df = sub_sampled_for_urea_df[!is.na(sub_sampled_for_urea_df$\"f.31.0.0\"), ]\n",
    "nrow(sub_sampled_for_urea_df)"
   ]
  },
  {
   "cell_type": "code",
   "execution_count": 84,
   "id": "113754eb",
   "metadata": {},
   "outputs": [
    {
     "data": {
      "text/html": [
       "<table class=\"dataframe\">\n",
       "<caption>A data.frame: 6 × 3</caption>\n",
       "<thead>\n",
       "\t<tr><th></th><th scope=col>EthnicGroup</th><th scope=col>UreaLevels</th><th scope=col>Sex</th></tr>\n",
       "\t<tr><th></th><th scope=col>&lt;chr&gt;</th><th scope=col>&lt;dbl&gt;</th><th scope=col>&lt;ord&gt;</th></tr>\n",
       "</thead>\n",
       "<tbody>\n",
       "\t<tr><th scope=row>16</th><td>Other</td><td>3.61</td><td>Male  </td></tr>\n",
       "\t<tr><th scope=row>30</th><td>Asian</td><td>4.14</td><td>Female</td></tr>\n",
       "\t<tr><th scope=row>51</th><td>Mixed</td><td>8.58</td><td>Male  </td></tr>\n",
       "\t<tr><th scope=row>56</th><td>Other</td><td>3.53</td><td>Female</td></tr>\n",
       "\t<tr><th scope=row>68</th><td>Asian</td><td>4.70</td><td>Male  </td></tr>\n",
       "\t<tr><th scope=row>76</th><td>Mixed</td><td>4.09</td><td>Female</td></tr>\n",
       "</tbody>\n",
       "</table>\n"
      ],
      "text/latex": [
       "A data.frame: 6 × 3\n",
       "\\begin{tabular}{r|lll}\n",
       "  & EthnicGroup & UreaLevels & Sex\\\\\n",
       "  & <chr> & <dbl> & <ord>\\\\\n",
       "\\hline\n",
       "\t16 & Other & 3.61 & Male  \\\\\n",
       "\t30 & Asian & 4.14 & Female\\\\\n",
       "\t51 & Mixed & 8.58 & Male  \\\\\n",
       "\t56 & Other & 3.53 & Female\\\\\n",
       "\t68 & Asian & 4.70 & Male  \\\\\n",
       "\t76 & Mixed & 4.09 & Female\\\\\n",
       "\\end{tabular}\n"
      ],
      "text/markdown": [
       "\n",
       "A data.frame: 6 × 3\n",
       "\n",
       "| <!--/--> | EthnicGroup &lt;chr&gt; | UreaLevels &lt;dbl&gt; | Sex &lt;ord&gt; |\n",
       "|---|---|---|---|\n",
       "| 16 | Other | 3.61 | Male   |\n",
       "| 30 | Asian | 4.14 | Female |\n",
       "| 51 | Mixed | 8.58 | Male   |\n",
       "| 56 | Other | 3.53 | Female |\n",
       "| 68 | Asian | 4.70 | Male   |\n",
       "| 76 | Mixed | 4.09 | Female |\n",
       "\n"
      ],
      "text/plain": [
       "   EthnicGroup UreaLevels Sex   \n",
       "16 Other       3.61       Male  \n",
       "30 Asian       4.14       Female\n",
       "51 Mixed       8.58       Male  \n",
       "56 Other       3.53       Female\n",
       "68 Asian       4.70       Male  \n",
       "76 Mixed       4.09       Female"
      ]
     },
     "metadata": {},
     "output_type": "display_data"
    }
   ],
   "source": [
    "colnames(sub_sampled_for_urea_df)[2] <- \"UreaLevels\"\n",
    "colnames(sub_sampled_for_urea_df)[3] <- \"Sex\"\n",
    "head(sub_sampled_for_urea_df)"
   ]
  },
  {
   "cell_type": "markdown",
   "id": "38a8a258",
   "metadata": {},
   "source": [
    "#### 5.3 Let's plot a box plot for UREA levels by EthnicGroup."
   ]
  },
  {
   "cell_type": "code",
   "execution_count": 91,
   "id": "dd2ecfde",
   "metadata": {},
   "outputs": [
    {
     "name": "stderr",
     "output_type": "stream",
     "text": [
      "Warning message:\n",
      "“Removed 219 rows containing non-finite values (stat_boxplot).”\n"
     ]
    },
    {
     "data": {
      "image/png": "[encoded data removed]",
      "text/plain": [
       "plot without title"
      ]
     },
     "metadata": {
      "image/png": {
       "height": 420,
       "width": 420
      }
     },
     "output_type": "display_data"
    }
   ],
   "source": [
    "ggplot(sub_sampled_for_urea_df, aes(x=EthnicGroup, y=UreaLevels, fill=Sex)) + \n",
    "    geom_boxplot(outlier.shape=NA, width=0.4) + scale_fill_manual(values = c(\"green\", \"orange\")) + \n",
    "    labs(x=\"Ethnic Groups\", y=\"Urea Levels\", title = \"Urea Levels by EthnicGroup stratified by Sex\",) + \n",
    "    theme_classic(base_size = 16) + ylim(c(0,10))"
   ]
  },
  {
   "cell_type": "markdown",
   "id": "0da24033",
   "metadata": {},
   "source": [
    "#### 5.4 Let's also look at mean Urea levels by Ethnicity and Sex"
   ]
  },
  {
   "cell_type": "code",
   "execution_count": 92,
   "id": "f8cffb87",
   "metadata": {},
   "outputs": [
    {
     "data": {
      "text/html": [
       "<table class=\"dataframe\">\n",
       "<caption>A data.frame: 12 × 3</caption>\n",
       "<thead>\n",
       "\t<tr><th scope=col>EthnicGroup</th><th scope=col>Sex</th><th scope=col>UreaLevels</th></tr>\n",
       "\t<tr><th scope=col>&lt;chr&gt;</th><th scope=col>&lt;ord&gt;</th><th scope=col>&lt;dbl&gt;</th></tr>\n",
       "</thead>\n",
       "<tbody>\n",
       "\t<tr><td>Asian  </td><td>Female</td><td>4.668929</td></tr>\n",
       "\t<tr><td>Black  </td><td>Female</td><td>4.675777</td></tr>\n",
       "\t<tr><td>Chinese</td><td>Female</td><td>4.964417</td></tr>\n",
       "\t<tr><td>Mixed  </td><td>Female</td><td>4.772416</td></tr>\n",
       "\t<tr><td>Other  </td><td>Female</td><td>4.881406</td></tr>\n",
       "\t<tr><td>White  </td><td>Female</td><td>5.268508</td></tr>\n",
       "\t<tr><td>Asian  </td><td>Male  </td><td>5.289017</td></tr>\n",
       "\t<tr><td>Black  </td><td>Male  </td><td>5.029648</td></tr>\n",
       "\t<tr><td>Chinese</td><td>Male  </td><td>5.519556</td></tr>\n",
       "\t<tr><td>Mixed  </td><td>Male  </td><td>5.327062</td></tr>\n",
       "\t<tr><td>Other  </td><td>Male  </td><td>5.402512</td></tr>\n",
       "\t<tr><td>White  </td><td>Male  </td><td>5.642941</td></tr>\n",
       "</tbody>\n",
       "</table>\n"
      ],
      "text/latex": [
       "A data.frame: 12 × 3\n",
       "\\begin{tabular}{lll}\n",
       " EthnicGroup & Sex & UreaLevels\\\\\n",
       " <chr> & <ord> & <dbl>\\\\\n",
       "\\hline\n",
       "\t Asian   & Female & 4.668929\\\\\n",
       "\t Black   & Female & 4.675777\\\\\n",
       "\t Chinese & Female & 4.964417\\\\\n",
       "\t Mixed   & Female & 4.772416\\\\\n",
       "\t Other   & Female & 4.881406\\\\\n",
       "\t White   & Female & 5.268508\\\\\n",
       "\t Asian   & Male   & 5.289017\\\\\n",
       "\t Black   & Male   & 5.029648\\\\\n",
       "\t Chinese & Male   & 5.519556\\\\\n",
       "\t Mixed   & Male   & 5.327062\\\\\n",
       "\t Other   & Male   & 5.402512\\\\\n",
       "\t White   & Male   & 5.642941\\\\\n",
       "\\end{tabular}\n"
      ],
      "text/markdown": [
       "\n",
       "A data.frame: 12 × 3\n",
       "\n",
       "| EthnicGroup &lt;chr&gt; | Sex &lt;ord&gt; | UreaLevels &lt;dbl&gt; |\n",
       "|---|---|---|\n",
       "| Asian   | Female | 4.668929 |\n",
       "| Black   | Female | 4.675777 |\n",
       "| Chinese | Female | 4.964417 |\n",
       "| Mixed   | Female | 4.772416 |\n",
       "| Other   | Female | 4.881406 |\n",
       "| White   | Female | 5.268508 |\n",
       "| Asian   | Male   | 5.289017 |\n",
       "| Black   | Male   | 5.029648 |\n",
       "| Chinese | Male   | 5.519556 |\n",
       "| Mixed   | Male   | 5.327062 |\n",
       "| Other   | Male   | 5.402512 |\n",
       "| White   | Male   | 5.642941 |\n",
       "\n"
      ],
      "text/plain": [
       "   EthnicGroup Sex    UreaLevels\n",
       "1  Asian       Female 4.668929  \n",
       "2  Black       Female 4.675777  \n",
       "3  Chinese     Female 4.964417  \n",
       "4  Mixed       Female 4.772416  \n",
       "5  Other       Female 4.881406  \n",
       "6  White       Female 5.268508  \n",
       "7  Asian       Male   5.289017  \n",
       "8  Black       Male   5.029648  \n",
       "9  Chinese     Male   5.519556  \n",
       "10 Mixed       Male   5.327062  \n",
       "11 Other       Male   5.402512  \n",
       "12 White       Male   5.642941  "
      ]
     },
     "metadata": {},
     "output_type": "display_data"
    }
   ],
   "source": [
    "aggregate(UreaLevels ~ EthnicGroup + Sex, data = sub_sampled_for_urea_df, FUN= \"mean\")"
   ]
  },
  {
   "cell_type": "markdown",
   "id": "4926d347",
   "metadata": {},
   "source": [
    "# End of Notebook!"
   ]
  },
  {
   "cell_type": "markdown",
   "id": "b5c5746b",
   "metadata": {},
   "source": [
    "___\n",
    "___"
   ]
  },
  {
   "cell_type": "code",
   "execution_count": null,
   "id": "afbb6c2f",
   "metadata": {},
   "outputs": [],
   "source": []
  }
 ],
 "metadata": {
  "kernelspec": {
   "display_name": "R",
   "language": "R",
   "name": "ir"
  },
  "language_info": {
   "codemirror_mode": "r",
   "file_extension": ".r",
   "mimetype": "text/x-r-source",
   "name": "R",
   "pygments_lexer": "r",
   "version": "3.6.0"
  }
 },
 "nbformat": 4,
 "nbformat_minor": 5
}
